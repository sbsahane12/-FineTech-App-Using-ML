{
 "cells": [
  {
   "cell_type": "code",
   "execution_count": 1,
   "id": "9385e0b6",
   "metadata": {},
   "outputs": [],
   "source": [
    "import numpy as np \n",
    "import pandas as pd\n",
    "import seaborn as sns\n",
    "import matplotlib.pyplot as plt\n",
    "from dateutil import parser"
   ]
  },
  {
   "cell_type": "code",
   "execution_count": 2,
   "id": "913afd1c",
   "metadata": {},
   "outputs": [],
   "source": [
    "data=pd.read_csv(r\"C:\\Users\\Sagar\\Desktop\\MentorKart\\ML PROJECT\\FineTech_appData.csv\")"
   ]
  },
  {
   "cell_type": "code",
   "execution_count": 3,
   "id": "78c31da4",
   "metadata": {},
   "outputs": [
    {
     "data": {
      "text/html": [
       "<div>\n",
       "<style scoped>\n",
       "    .dataframe tbody tr th:only-of-type {\n",
       "        vertical-align: middle;\n",
       "    }\n",
       "\n",
       "    .dataframe tbody tr th {\n",
       "        vertical-align: top;\n",
       "    }\n",
       "\n",
       "    .dataframe thead th {\n",
       "        text-align: right;\n",
       "    }\n",
       "</style>\n",
       "<table border=\"1\" class=\"dataframe\">\n",
       "  <thead>\n",
       "    <tr style=\"text-align: right;\">\n",
       "      <th></th>\n",
       "      <th>user</th>\n",
       "      <th>first_open</th>\n",
       "      <th>dayofweek</th>\n",
       "      <th>hour</th>\n",
       "      <th>age</th>\n",
       "      <th>screen_list</th>\n",
       "      <th>numscreens</th>\n",
       "      <th>minigame</th>\n",
       "      <th>used_premium_feature</th>\n",
       "      <th>enrolled</th>\n",
       "      <th>enrolled_date</th>\n",
       "      <th>liked</th>\n",
       "    </tr>\n",
       "  </thead>\n",
       "  <tbody>\n",
       "    <tr>\n",
       "      <th>0</th>\n",
       "      <td>235136</td>\n",
       "      <td>2012-12-27 02:14:51.273</td>\n",
       "      <td>3</td>\n",
       "      <td>02:00:00</td>\n",
       "      <td>23</td>\n",
       "      <td>idscreen,joinscreen,Cycle,product_review,ScanP...</td>\n",
       "      <td>15</td>\n",
       "      <td>0</td>\n",
       "      <td>0</td>\n",
       "      <td>0</td>\n",
       "      <td>NaN</td>\n",
       "      <td>0</td>\n",
       "    </tr>\n",
       "    <tr>\n",
       "      <th>1</th>\n",
       "      <td>333588</td>\n",
       "      <td>2012-12-02 01:16:00.905</td>\n",
       "      <td>6</td>\n",
       "      <td>01:00:00</td>\n",
       "      <td>24</td>\n",
       "      <td>joinscreen,product_review,product_review2,Scan...</td>\n",
       "      <td>13</td>\n",
       "      <td>0</td>\n",
       "      <td>0</td>\n",
       "      <td>0</td>\n",
       "      <td>NaN</td>\n",
       "      <td>0</td>\n",
       "    </tr>\n",
       "    <tr>\n",
       "      <th>2</th>\n",
       "      <td>254414</td>\n",
       "      <td>2013-03-19 19:19:09.157</td>\n",
       "      <td>1</td>\n",
       "      <td>19:00:00</td>\n",
       "      <td>23</td>\n",
       "      <td>Splash,Cycle,Loan</td>\n",
       "      <td>3</td>\n",
       "      <td>0</td>\n",
       "      <td>1</td>\n",
       "      <td>0</td>\n",
       "      <td>NaN</td>\n",
       "      <td>1</td>\n",
       "    </tr>\n",
       "    <tr>\n",
       "      <th>3</th>\n",
       "      <td>234192</td>\n",
       "      <td>2013-07-05 16:08:46.354</td>\n",
       "      <td>4</td>\n",
       "      <td>16:00:00</td>\n",
       "      <td>28</td>\n",
       "      <td>product_review,Home,product_review,Loan3,Finan...</td>\n",
       "      <td>40</td>\n",
       "      <td>0</td>\n",
       "      <td>0</td>\n",
       "      <td>1</td>\n",
       "      <td>2013-07-05 16:11:49.513</td>\n",
       "      <td>0</td>\n",
       "    </tr>\n",
       "    <tr>\n",
       "      <th>4</th>\n",
       "      <td>51549</td>\n",
       "      <td>2013-02-26 18:50:48.661</td>\n",
       "      <td>1</td>\n",
       "      <td>18:00:00</td>\n",
       "      <td>31</td>\n",
       "      <td>idscreen,joinscreen,Cycle,Credit3Container,Sca...</td>\n",
       "      <td>32</td>\n",
       "      <td>0</td>\n",
       "      <td>0</td>\n",
       "      <td>1</td>\n",
       "      <td>2013-02-26 18:56:37.841</td>\n",
       "      <td>1</td>\n",
       "    </tr>\n",
       "  </tbody>\n",
       "</table>\n",
       "</div>"
      ],
      "text/plain": [
       "     user               first_open  dayofweek       hour  age  \\\n",
       "0  235136  2012-12-27 02:14:51.273          3   02:00:00   23   \n",
       "1  333588  2012-12-02 01:16:00.905          6   01:00:00   24   \n",
       "2  254414  2013-03-19 19:19:09.157          1   19:00:00   23   \n",
       "3  234192  2013-07-05 16:08:46.354          4   16:00:00   28   \n",
       "4   51549  2013-02-26 18:50:48.661          1   18:00:00   31   \n",
       "\n",
       "                                         screen_list  numscreens  minigame  \\\n",
       "0  idscreen,joinscreen,Cycle,product_review,ScanP...          15         0   \n",
       "1  joinscreen,product_review,product_review2,Scan...          13         0   \n",
       "2                                  Splash,Cycle,Loan           3         0   \n",
       "3  product_review,Home,product_review,Loan3,Finan...          40         0   \n",
       "4  idscreen,joinscreen,Cycle,Credit3Container,Sca...          32         0   \n",
       "\n",
       "   used_premium_feature  enrolled            enrolled_date  liked  \n",
       "0                     0         0                      NaN      0  \n",
       "1                     0         0                      NaN      0  \n",
       "2                     1         0                      NaN      1  \n",
       "3                     0         1  2013-07-05 16:11:49.513      0  \n",
       "4                     0         1  2013-02-26 18:56:37.841      1  "
      ]
     },
     "execution_count": 3,
     "metadata": {},
     "output_type": "execute_result"
    }
   ],
   "source": [
    "data.head()"
   ]
  },
  {
   "cell_type": "code",
   "execution_count": 4,
   "id": "22a2606f",
   "metadata": {},
   "outputs": [
    {
     "data": {
      "text/plain": [
       "user                     int64\n",
       "first_open              object\n",
       "dayofweek                int64\n",
       "hour                    object\n",
       "age                      int64\n",
       "screen_list             object\n",
       "numscreens               int64\n",
       "minigame                 int64\n",
       "used_premium_feature     int64\n",
       "enrolled                 int64\n",
       "enrolled_date           object\n",
       "liked                    int64\n",
       "dtype: object"
      ]
     },
     "execution_count": 4,
     "metadata": {},
     "output_type": "execute_result"
    }
   ],
   "source": [
    "data.dtypes"
   ]
  },
  {
   "cell_type": "code",
   "execution_count": 5,
   "id": "da940fc1",
   "metadata": {},
   "outputs": [
    {
     "name": "stdout",
     "output_type": "stream",
     "text": [
      "joinscreen,product_review,product_review2,ScanPreview,VerifyDateOfBirth,location,VerifyCountry,VerifyPhone,VerifyToken,Institutions,Loan2\n",
      "Splash,Cycle,Loan\n",
      "product_review,Home,product_review,Loan3,Finances,Credit3,ReferralContainer,Leaderboard,Rewards,RewardDetail,ScanPreview,location,VerifyDateOfBirth,VerifyPhone,VerifySSN,Credit1,Credit2\n"
     ]
    }
   ],
   "source": [
    "for i in range(1,4):\n",
    "    print(data.loc[i,\"screen_list\"])"
   ]
  },
  {
   "cell_type": "code",
   "execution_count": 6,
   "id": "fdda019f",
   "metadata": {},
   "outputs": [],
   "source": [
    "data[\"hour\"]=data.hour.str.slice(1,3).astype(int)"
   ]
  },
  {
   "cell_type": "code",
   "execution_count": 7,
   "id": "cbdc29f5",
   "metadata": {},
   "outputs": [
    {
     "data": {
      "text/plain": [
       "user                     int64\n",
       "first_open              object\n",
       "dayofweek                int64\n",
       "hour                     int32\n",
       "age                      int64\n",
       "screen_list             object\n",
       "numscreens               int64\n",
       "minigame                 int64\n",
       "used_premium_feature     int64\n",
       "enrolled                 int64\n",
       "enrolled_date           object\n",
       "liked                    int64\n",
       "dtype: object"
      ]
     },
     "execution_count": 7,
     "metadata": {},
     "output_type": "execute_result"
    }
   ],
   "source": [
    "data.dtypes"
   ]
  },
  {
   "cell_type": "code",
   "execution_count": 8,
   "id": "0ef73cc8",
   "metadata": {},
   "outputs": [
    {
     "data": {
      "text/plain": [
       "array([235136, 333588, 254414, ..., 302367, 324905,  27047], dtype=int64)"
      ]
     },
     "execution_count": 8,
     "metadata": {},
     "output_type": "execute_result"
    }
   ],
   "source": [
    "data[\"user\"].unique()"
   ]
  },
  {
   "cell_type": "code",
   "execution_count": 9,
   "id": "87ce36a1",
   "metadata": {},
   "outputs": [
    {
     "name": "stdout",
     "output_type": "stream",
     "text": [
      "************************************1 DATA IS ['user']***************************************\n",
      "Unique value of data['user'] [235136 333588 254414 ... 302367 324905  27047]\n",
      "lenth of Unique value of data['user'] 49874\n",
      "***********************************************************************************************\n",
      "\n",
      "************************************2 DATA IS ['first_open']***************************************\n",
      "Unique value of data['first_open'] ['2012-12-27 02:14:51.273' '2012-12-02 01:16:00.905'\n",
      " '2013-03-19 19:19:09.157' ... '2013-02-20 22:41:51.165'\n",
      " '2013-04-28 12:33:04.288' '2012-12-14 01:22:44.638']\n",
      "lenth of Unique value of data['first_open'] 49747\n",
      "***********************************************************************************************\n",
      "\n",
      "************************************3 DATA IS ['dayofweek']***************************************\n",
      "Unique value of data['dayofweek'] [3 6 1 4 2 0 5]\n",
      "lenth of Unique value of data['dayofweek'] 7\n",
      "***********************************************************************************************\n",
      "\n",
      "************************************4 DATA IS ['hour']***************************************\n",
      "Unique value of data['hour'] [ 2  1 19 16 18  9  3 14  4 11  6 21  5 17 20  0 22 10  8 15 13 23 12  7]\n",
      "lenth of Unique value of data['hour'] 24\n",
      "***********************************************************************************************\n",
      "\n",
      "************************************5 DATA IS ['age']***************************************\n",
      "Unique value of data['age'] [ 23  24  28  31  20  35  26  29  39  32  25  17  21  55  38  27  48  37\n",
      "  22  36  30  58  40  33  57  19  45  34  46  56  42  43  41  47  18  53\n",
      "  44  49  60  50  52  62  63  16  54  70  51  69  68  59  76  75  66  61\n",
      "  72  65  90  64  67  73  77  71  74  89  78  86  80  82  79  87  81  85\n",
      " 101  88  83 100  84  98]\n",
      "lenth of Unique value of data['age'] 78\n",
      "***********************************************************************************************\n",
      "\n",
      "************************************6 DATA IS ['screen_list']***************************************\n",
      "Unique value of data['screen_list'] ['idscreen,joinscreen,Cycle,product_review,ScanPreview,VerifyDateOfBirth,VerifyPhone,VerifyToken,ProfileVerifySSN,Loan2,Settings,ForgotPassword,Login'\n",
      " 'joinscreen,product_review,product_review2,ScanPreview,VerifyDateOfBirth,location,VerifyCountry,VerifyPhone,VerifyToken,Institutions,Loan2'\n",
      " 'Splash,Cycle,Loan' ...\n",
      " 'joinscreen,product_review,product_review2,ScanPreview,VerifyCountry,VerifyPhone,VerifyToken,VerifyDateOfBirth,location,Home'\n",
      " 'Cycle,Home,product_review,product_review,product_review3,ScanPreview,VerifyDateOfBirth,location,VerifyCountry,VerifyPhone,VerifyToken,product_review,product_review,VerifySSN,product_review,SelectInstitution,BankVerification,product_review,product_review'\n",
      " 'product_review,ScanPreview,VerifyDateOfBirth,VerifyCountry,ProfileVerifySSN,ProfilePage,ProfileEducation,ProfileEducationMajor,Saving2Amount,Saving8,ProfileMaritalStatus,ProfileChildren,Saving2,Saving9,Saving7,Saving6,Saving5,Home,Loan2']\n",
      "lenth of Unique value of data['screen_list'] 38799\n",
      "***********************************************************************************************\n",
      "\n",
      "************************************7 DATA IS ['numscreens']***************************************\n",
      "Unique value of data['numscreens'] [ 15  13   3  40  32  14  41  33  19  25  11   4   9  26   6  20   5   8\n",
      "  42   1  38  49  35  10  52  50  76  37  16  47  90  24  45  31  39  17\n",
      "  28  27  57  23  21  12   7  18  48  29 136  34  59  89  22  43  36  56\n",
      "  30   2  44  92  51  70  58  66  46  55  61  75  71  78  85  62  53  54\n",
      "  73  68  69  63  64  88 106  80 127  74  72 137  83  77  65 104  60  67\n",
      "  94  81 110  91  82  96 165  79  86 116  99  98 187  84 111 109 107 162\n",
      "  97 100  95  87 122 216 115 102 128 234 112 108 114 125 119  93 185 192\n",
      " 189 153 243 103 101 118 325 141 129 133 126 120 123 134 121 105 113 117\n",
      " 200 247 179 132 144 130 148]\n",
      "lenth of Unique value of data['numscreens'] 151\n",
      "***********************************************************************************************\n",
      "\n",
      "************************************8 DATA IS ['minigame']***************************************\n",
      "Unique value of data['minigame'] [0 1]\n",
      "lenth of Unique value of data['minigame'] 2\n",
      "***********************************************************************************************\n",
      "\n",
      "************************************9 DATA IS ['used_premium_feature']***************************************\n",
      "Unique value of data['used_premium_feature'] [0 1]\n",
      "lenth of Unique value of data['used_premium_feature'] 2\n",
      "***********************************************************************************************\n",
      "\n",
      "************************************10 DATA IS ['enrolled']***************************************\n",
      "Unique value of data['enrolled'] [0 1]\n",
      "lenth of Unique value of data['enrolled'] 2\n",
      "***********************************************************************************************\n",
      "\n",
      "************************************11 DATA IS ['enrolled_date']***************************************\n",
      "Unique value of data['enrolled_date'] [nan '2013-07-05 16:11:49.513' '2013-02-26 18:56:37.841' ...\n",
      " '2013-02-25 19:36:56.082' '2013-05-09 13:47:52.875'\n",
      " '2013-04-28 12:35:38.709']\n",
      "lenth of Unique value of data['enrolled_date'] 31002\n",
      "***********************************************************************************************\n",
      "\n",
      "************************************12 DATA IS ['liked']***************************************\n",
      "Unique value of data['liked'] [0 1]\n",
      "lenth of Unique value of data['liked'] 2\n",
      "***********************************************************************************************\n",
      "\n"
     ]
    }
   ],
   "source": [
    "users=data.columns\n",
    "for i,j in enumerate(users):\n",
    "    print(f\"************************************{i+1} DATA IS {[j]}***************************************\")\n",
    "    print(f\"Unique value of data{[j]}\",data[j].unique())\n",
    "    print(f\"lenth of Unique value of data{[j]}\",len(data[j].unique()))\n",
    "    print(\"***********************************************************************************************\")\n",
    "    print()"
   ]
  },
  {
   "cell_type": "code",
   "execution_count": 10,
   "id": "b3e1f1cd",
   "metadata": {},
   "outputs": [
    {
     "data": {
      "text/plain": [
       "Index(['user', 'first_open', 'dayofweek', 'hour', 'age', 'screen_list',\n",
       "       'numscreens', 'minigame', 'used_premium_feature', 'enrolled',\n",
       "       'enrolled_date', 'liked'],\n",
       "      dtype='object')"
      ]
     },
     "execution_count": 10,
     "metadata": {},
     "output_type": "execute_result"
    }
   ],
   "source": [
    "data.columns"
   ]
  },
  {
   "cell_type": "code",
   "execution_count": 11,
   "id": "1909f548",
   "metadata": {},
   "outputs": [],
   "source": [
    "obj=['user', 'first_open', 'screen_list','enrolled_date']\n",
    "data2=data.drop(columns=obj,axis=1)"
   ]
  },
  {
   "cell_type": "code",
   "execution_count": 12,
   "id": "a34e7632",
   "metadata": {},
   "outputs": [
    {
     "data": {
      "text/html": [
       "<div>\n",
       "<style scoped>\n",
       "    .dataframe tbody tr th:only-of-type {\n",
       "        vertical-align: middle;\n",
       "    }\n",
       "\n",
       "    .dataframe tbody tr th {\n",
       "        vertical-align: top;\n",
       "    }\n",
       "\n",
       "    .dataframe thead th {\n",
       "        text-align: right;\n",
       "    }\n",
       "</style>\n",
       "<table border=\"1\" class=\"dataframe\">\n",
       "  <thead>\n",
       "    <tr style=\"text-align: right;\">\n",
       "      <th></th>\n",
       "      <th>dayofweek</th>\n",
       "      <th>hour</th>\n",
       "      <th>age</th>\n",
       "      <th>numscreens</th>\n",
       "      <th>minigame</th>\n",
       "      <th>used_premium_feature</th>\n",
       "      <th>enrolled</th>\n",
       "      <th>liked</th>\n",
       "    </tr>\n",
       "  </thead>\n",
       "  <tbody>\n",
       "    <tr>\n",
       "      <th>0</th>\n",
       "      <td>3</td>\n",
       "      <td>2</td>\n",
       "      <td>23</td>\n",
       "      <td>15</td>\n",
       "      <td>0</td>\n",
       "      <td>0</td>\n",
       "      <td>0</td>\n",
       "      <td>0</td>\n",
       "    </tr>\n",
       "    <tr>\n",
       "      <th>1</th>\n",
       "      <td>6</td>\n",
       "      <td>1</td>\n",
       "      <td>24</td>\n",
       "      <td>13</td>\n",
       "      <td>0</td>\n",
       "      <td>0</td>\n",
       "      <td>0</td>\n",
       "      <td>0</td>\n",
       "    </tr>\n",
       "    <tr>\n",
       "      <th>2</th>\n",
       "      <td>1</td>\n",
       "      <td>19</td>\n",
       "      <td>23</td>\n",
       "      <td>3</td>\n",
       "      <td>0</td>\n",
       "      <td>1</td>\n",
       "      <td>0</td>\n",
       "      <td>1</td>\n",
       "    </tr>\n",
       "    <tr>\n",
       "      <th>3</th>\n",
       "      <td>4</td>\n",
       "      <td>16</td>\n",
       "      <td>28</td>\n",
       "      <td>40</td>\n",
       "      <td>0</td>\n",
       "      <td>0</td>\n",
       "      <td>1</td>\n",
       "      <td>0</td>\n",
       "    </tr>\n",
       "    <tr>\n",
       "      <th>4</th>\n",
       "      <td>1</td>\n",
       "      <td>18</td>\n",
       "      <td>31</td>\n",
       "      <td>32</td>\n",
       "      <td>0</td>\n",
       "      <td>0</td>\n",
       "      <td>1</td>\n",
       "      <td>1</td>\n",
       "    </tr>\n",
       "  </tbody>\n",
       "</table>\n",
       "</div>"
      ],
      "text/plain": [
       "   dayofweek  hour  age  numscreens  minigame  used_premium_feature  enrolled  \\\n",
       "0          3     2   23          15         0                     0         0   \n",
       "1          6     1   24          13         0                     0         0   \n",
       "2          1    19   23           3         0                     1         0   \n",
       "3          4    16   28          40         0                     0         1   \n",
       "4          1    18   31          32         0                     0         1   \n",
       "\n",
       "   liked  \n",
       "0      0  \n",
       "1      0  \n",
       "2      1  \n",
       "3      0  \n",
       "4      1  "
      ]
     },
     "execution_count": 12,
     "metadata": {},
     "output_type": "execute_result"
    }
   ],
   "source": [
    "data2.head()"
   ]
  },
  {
   "cell_type": "code",
   "execution_count": 13,
   "id": "4dbc0c91",
   "metadata": {},
   "outputs": [
    {
     "data": {
      "text/plain": [
       "<AxesSubplot:>"
      ]
     },
     "execution_count": 13,
     "metadata": {},
     "output_type": "execute_result"
    },
    {
     "data": {
      "image/png": "[encoded data removed]",
      "text/plain": [
       "<Figure size 1152x648 with 2 Axes>"
      ]
     },
     "metadata": {
      "needs_background": "light"
     },
     "output_type": "display_data"
    }
   ],
   "source": [
    "plt.figure(figsize=(16,9))\n",
    "sns.heatmap(data2.corr(),annot=True,cmap=\"cool\")"
   ]
  },
  {
   "cell_type": "code",
   "execution_count": 14,
   "id": "cc3451c8",
   "metadata": {},
   "outputs": [
    {
     "data": {
      "image/png": "[encoded data removed]",
      "text/plain": [
       "<Figure size 1152x648 with 8 Axes>"
      ]
     },
     "metadata": {
      "needs_background": "light"
     },
     "output_type": "display_data"
    }
   ],
   "source": [
    "plt.figure(figsize=(16,9))\n",
    "features2=data2.columns\n",
    "for i,j in enumerate(features2):\n",
    "    plt.subplot(4,3,i+1)\n",
    "    plt.title(f\"Histogram of {j}\")\n",
    "    bins=len(data[j].unique())\n",
    "    plt.hist(data[j],bins=bins,edgecolor=\"r\")"
   ]
  },
  {
   "cell_type": "code",
   "execution_count": 15,
   "id": "d29bad67",
   "metadata": {},
   "outputs": [
    {
     "name": "stdout",
     "output_type": "stream",
     "text": [
      "0=dayofweek\n",
      "1=hour\n",
      "2=age\n",
      "3=numscreens\n",
      "4=minigame\n",
      "5=used_premium_feature\n",
      "6=enrolled\n",
      "7=liked\n"
     ]
    }
   ],
   "source": [
    "for i,j in enumerate(features2):\n",
    "    print(f\"{i}={j}\")"
   ]
  },
  {
   "cell_type": "code",
   "execution_count": 16,
   "id": "a7668966",
   "metadata": {},
   "outputs": [],
   "source": [
    "data[\"first_open\"]=[parser.parse(i) for i in data[\"first_open\"]]"
   ]
  },
  {
   "cell_type": "code",
   "execution_count": 17,
   "id": "0bc3bdf4",
   "metadata": {},
   "outputs": [],
   "source": [
    "data[\"enrolled_date\"]=[parser.parse(i) if isinstance(i,str) else i for i in data[\"enrolled_date\"]]"
   ]
  },
  {
   "cell_type": "code",
   "execution_count": 18,
   "id": "82f4b6e2",
   "metadata": {},
   "outputs": [
    {
     "data": {
      "text/plain": [
       "0                           NaT\n",
       "1                           NaT\n",
       "2                           NaT\n",
       "3       2013-07-05 16:11:49.513\n",
       "4       2013-02-26 18:56:37.841\n",
       "                  ...          \n",
       "49995   2013-05-09 13:47:52.875\n",
       "49996                       NaT\n",
       "49997                       NaT\n",
       "49998   2013-04-28 12:35:38.709\n",
       "49999                       NaT\n",
       "Name: enrolled_date, Length: 50000, dtype: datetime64[ns]"
      ]
     },
     "execution_count": 18,
     "metadata": {},
     "output_type": "execute_result"
    }
   ],
   "source": [
    "data[\"enrolled_date\"]"
   ]
  },
  {
   "cell_type": "code",
   "execution_count": 19,
   "id": "e7989c4f",
   "metadata": {},
   "outputs": [
    {
     "data": {
      "text/plain": [
       "0       2012-12-27 02:14:51.273\n",
       "1       2012-12-02 01:16:00.905\n",
       "2       2013-03-19 19:19:09.157\n",
       "3       2013-07-05 16:08:46.354\n",
       "4       2013-02-26 18:50:48.661\n",
       "                  ...          \n",
       "49995   2013-05-09 13:46:17.871\n",
       "49996   2013-04-09 00:05:17.823\n",
       "49997   2013-02-20 22:41:51.165\n",
       "49998   2013-04-28 12:33:04.288\n",
       "49999   2012-12-14 01:22:44.638\n",
       "Name: first_open, Length: 50000, dtype: datetime64[ns]"
      ]
     },
     "execution_count": 19,
     "metadata": {},
     "output_type": "execute_result"
    }
   ],
   "source": [
    "data[\"first_open\"]"
   ]
  },
  {
   "cell_type": "code",
   "execution_count": 24,
   "id": "b5fd2c65",
   "metadata": {},
   "outputs": [],
   "source": [
    "data[\"time_to_enrolled\"]=(data.enrolled_date-data.first_open).astype('timedelta64[h]')"
   ]
  },
  {
   "cell_type": "code",
   "execution_count": 21,
   "id": "ad6dec45",
   "metadata": {},
   "outputs": [
    {
     "data": {
      "text/plain": [
       "[<matplotlib.lines.Line2D at 0x16f52320970>]"
      ]
     },
     "execution_count": 21,
     "metadata": {},
     "output_type": "execute_result"
    },
    {
     "data": {
      "image/png": "[encoded data removed]",
      "text/plain": [
       "<Figure size 432x288 with 1 Axes>"
      ]
     },
     "metadata": {
      "needs_background": "light"
     },
     "output_type": "display_data"
    }
   ],
   "source": [
    "plt.plot(data[\"time_to_enrolled\"])"
   ]
  },
  {
   "cell_type": "code",
   "execution_count": 25,
   "id": "f592ff5b",
   "metadata": {},
   "outputs": [],
   "source": [
    "data.loc[data.time_to_enrolled > 48, 'enrolled'] = 0"
   ]
  },
  {
   "cell_type": "code",
   "execution_count": 27,
   "id": "a60ceca0",
   "metadata": {},
   "outputs": [],
   "source": [
    "data.drop(columns=['enrolled',\"time_to_enrolled\",\"first_open\"],inplace=True)"
   ]
  },
  {
   "cell_type": "code",
   "execution_count": null,
   "id": "4d3a4965",
   "metadata": {},
   "outputs": [],
   "source": []
  }
 ],
 "metadata": {
  "kernelspec": {
   "display_name": "Python 3 (ipykernel)",
   "language": "python",
   "name": "python3"
  },
  "language_info": {
   "codemirror_mode": {
    "name": "ipython",
    "version": 3
   },
   "file_extension": ".py",
   "mimetype": "text/x-python",
   "name": "python",
   "nbconvert_exporter": "python",
   "pygments_lexer": "ipython3",
   "version": "3.9.12"
  }
 },
 "nbformat": 4,
 "nbformat_minor": 5
}
